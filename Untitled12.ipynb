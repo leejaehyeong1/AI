{
  "nbformat": 4,
  "nbformat_minor": 0,
  "metadata": {
    "colab": {
      "provenance": [],
      "gpuType": "T4",
      "authorship_tag": "ABX9TyNjZ6q9An1n/m7NOpB65lvy",
      "include_colab_link": true
    },
    "kernelspec": {
      "name": "python3",
      "display_name": "Python 3"
    },
    "language_info": {
      "name": "python"
    },
    "accelerator": "GPU"
  },
  "cells": [
    {
      "cell_type": "markdown",
      "metadata": {
        "id": "view-in-github",
        "colab_type": "text"
      },
      "source": [
        "<a href=\"https://colab.research.google.com/github/leejaehyeong1/AI/blob/main/Untitled12.ipynb\" target=\"_parent\"><img src=\"https://colab.research.google.com/assets/colab-badge.svg\" alt=\"Open In Colab\"/></a>"
      ]
    },
    {
      "cell_type": "markdown",
      "source": [
        "# 텐서 생성 방법\n",
        "## 1. 리스트나 배열로부터 직접 생성"
      ],
      "metadata": {
        "id": "51IdTfzR4xwo"
      }
    },
    {
      "cell_type": "code",
      "execution_count": 1,
      "metadata": {
        "id": "epM4yPxd4TcF",
        "outputId": "9b7ccd94-5ebd-476e-8fec-268b8ebb5108",
        "colab": {
          "base_uri": "https://localhost:8080/"
        }
      },
      "outputs": [
        {
          "output_type": "stream",
          "name": "stdout",
          "text": [
            "1차원 텐서: tensor([1, 2, 3])\n",
            "2차원 텐서: tensor([[1, 2, 3],\n",
            "        [4, 5, 6]])\n"
          ]
        }
      ],
      "source": [
        "import torch\n",
        "\n",
        "# 1차원 텐서\n",
        "tensor1d = torch.tensor([1,2,3])\n",
        "print(f'1차원 텐서: {tensor1d}')\n",
        "\n",
        "# 2차원 텐서\n",
        "tensor2d = torch.tensor([[1,2,3],\n",
        "                        [4,5,6]])\n",
        "print(f'2차원 텐서: {tensor2d}')"
      ]
    },
    {
      "cell_type": "markdown",
      "source": [
        "## 2. 특수 함수로 생성"
      ],
      "metadata": {
        "id": "k9bZKLbh5kHl"
      }
    },
    {
      "cell_type": "code",
      "source": [
        "# zeros, ones, full\n",
        "zeros_tensor = torch.zeros((3,3))\n",
        "ones_tensor = torch.ones((2,4))\n",
        "full_tensor = torch.full((2,2), 7)\n",
        "\n",
        "# arnage, linspace\n",
        "arange_tensor = torch.arange(0,10, step=2)\n",
        "linspace_tensor = torch.linspace(0,1,steps=5)\n",
        "\n",
        "print(f'zeros_tensor:\\n {zeros_tensor}')\n",
        "print(f'ones_tensor:\\n {ones_tensor}')\n",
        "print(f'full_tensor:\\n {full_tensor}')\n",
        "print(f'arange_tensor: {arange_tensor}')\n",
        "print(f'linspace_tensor: {linspace_tensor}')\n"
      ],
      "metadata": {
        "id": "KnFgw_6s5jD-",
        "outputId": "646cabc1-4822-4812-b901-afdf855ad407",
        "colab": {
          "base_uri": "https://localhost:8080/"
        }
      },
      "execution_count": 22,
      "outputs": [
        {
          "output_type": "stream",
          "name": "stdout",
          "text": [
            "zeros_tensor:\n",
            " tensor([[0., 0., 0.],\n",
            "        [0., 0., 0.],\n",
            "        [0., 0., 0.]])\n",
            "ones_tensor:\n",
            " tensor([[1., 1., 1., 1.],\n",
            "        [1., 1., 1., 1.]])\n",
            "full_tensor:\n",
            " tensor([[7, 7],\n",
            "        [7, 7]])\n",
            "arange_tensor: tensor([0, 2, 4, 6, 8])\n",
            "linspace_tensor: tensor([0.0000, 0.2500, 0.5000, 0.7500, 1.0000])\n"
          ]
        }
      ]
    },
    {
      "cell_type": "markdown",
      "source": [
        "## 3. 무작위 텐서 생성"
      ],
      "metadata": {
        "id": "k4BUfJ1S6_gy"
      }
    },
    {
      "cell_type": "code",
      "source": [
        "# rand:[0,1] 범위의 균일 분포\n",
        "rand_tensor = torch.rand((3,3))\n",
        "\n",
        "# randn: 평균 0, 표준 편차 1의 정규 분포\n",
        "randn_tensor = torch.randn((2,2))\n",
        "\n",
        "print(f'rand_tensor:|n {rand_tensor}')\n",
        "print(f'randn_tensor:|n {randn_tensor}')"
      ],
      "metadata": {
        "id": "cU9D1HhQ6-nl",
        "outputId": "c88166ea-139b-4922-8cc3-ac707f8bd61a",
        "colab": {
          "base_uri": "https://localhost:8080/"
        }
      },
      "execution_count": 3,
      "outputs": [
        {
          "output_type": "stream",
          "name": "stdout",
          "text": [
            "rand_tensor:|n tensor([[0.4885, 0.9691, 0.5657],\n",
            "        [0.9404, 0.0577, 0.6250],\n",
            "        [0.2868, 0.2316, 0.5097]])\n",
            "randn_tensor:|n tensor([[-0.0142,  0.1134],\n",
            "        [ 0.9571,  1.5700]])\n"
          ]
        }
      ]
    },
    {
      "cell_type": "code",
      "source": [
        "# 텐서 차원 완전 정복 : 실생활 예시\n",
        "def explore_tensor_dimensions():\n",
        "  # 차원별 텐서의 실제 의미와 활용법\n",
        "  print('텐서 차원별 탐험을 시작합니다!')\n",
        "  print('='*50)\n",
        "\n",
        "  # 0차원: 스칼라(팁러닝에서 손실값 등)\n",
        "  loss_value = torch.tensor(0.245)\n",
        "  print(f'0차원 (스칼라): {loss_value}')\n",
        "  print('   실제 의미: 모델의 손실값')\n",
        "  print(f'  모양: {loss_value.shape}')\n",
        "  print(f'  차원 수: {loss_value.dim()}|n')\n",
        "\n",
        "  # 1차원: 벡터(단어 임베딩, 특성 벡터 등)\n",
        "  word_embedding = torch.tensor([0.2, -0.1, 0.8, 0.5])\n",
        "  print(f'1차원 (벡터): {word_embedding}')\n",
        "  print(\"   실제 의미: '사랑'이라는 단어의 4차원 임베딩\")\n",
        "  print(f'  모양: {word_embedding.shape}')\n",
        "  print(f'  차원 수: {word_embedding.dim()}|n')\n",
        "\n",
        "  # 2차원: 행렬(이미지, 가중치 행렬 등)\n",
        "  grayscale_image = torch.randint(0,256,(4,4))\n",
        "  print(f'2차원 (행렬): {grayscale_image}')\n",
        "  print('  실제 의미: 4x4 픽셀 흑백 이미지')\n",
        "  print(f'  모양: {grayscale_image.shape}')\n",
        "  print(f'  차원 수: {grayscale_image.dim()}|n')\n",
        "\n",
        "  # 3차원: 컬러 이미지(높이x너비x채널)\n",
        "  color_image = torch.randint(0,256,(3,4,4))\n",
        "  print(f'3차원 (컬러 이미지): {color_image.shape}')\n",
        "  print('  실제 의미: 4x4 픽셀 컬러 이미지(RGB)')\n",
        "  print('  해석: 3개 채널 x 4높이 x 4너비')\n",
        "  print(f'  차원 수: {color_image.dim()}|n')\n",
        "\n",
        "  # 4차원: 배치 이미(배치x채널x높이x너비)\n",
        "  batch_images = torch.randint(0,256,(2,3,4,4))\n",
        "  print(f'4차원 (배치 이미지): 모양 {batch_images.shape}')\n",
        "  print('  실제 의미: 2장의 4x4 컬러 이미지 묶음')\n",
        "  print('  해석: 2배치x 3채널 x 4높이 x 4너비')\n",
        "  print(f'  차원 수: {batch_images.dim()}|n')\n",
        "\n",
        "  print('딥러닝에서 각 차원의 의미:')\n",
        "  print('  * 배치 차원: 한 번에 처리할 데이터 개수')\n",
        "  print('  * 특성 차원: 데이터의 특징 개수')\n",
        "  print('  * 시퀀스 차원: 시계열 데이터의 길이')\n",
        "  print('  * 공간 차원: 이미지의 높이, 너비')\n",
        "\n",
        "# 실행\n",
        "explore_tensor_dimensions()"
      ],
      "metadata": {
        "id": "NQrLg3vn8I3v",
        "outputId": "493e8b15-aafe-4b3c-c865-94e499cd9380",
        "colab": {
          "base_uri": "https://localhost:8080/"
        }
      },
      "execution_count": 24,
      "outputs": [
        {
          "output_type": "stream",
          "name": "stdout",
          "text": [
            "텐서 차원별 탐험을 시작합니다!\n",
            "==================================================\n",
            "0차원 (스칼라): 0.24500000476837158\n",
            "   실제 의미: 모델의 손실값\n",
            "  모양: torch.Size([])\n",
            "  차원 수: 0|n\n",
            "1차원 (벡터): tensor([ 0.2000, -0.1000,  0.8000,  0.5000])\n",
            "   실제 의미: '사랑'이라는 단어의 4차원 임베딩\n",
            "  모양: torch.Size([4])\n",
            "  차원 수: 1|n\n",
            "2차원 (행렬): tensor([[208, 241,   7, 223],\n",
            "        [122, 195, 243, 159],\n",
            "        [ 71, 182,  45, 116],\n",
            "        [189, 187, 107, 105]])\n",
            "  실제 의미: 4x4 픽셀 흑백 이미지\n",
            "  모양: torch.Size([4, 4])\n",
            "  차원 수: 2|n\n",
            "3차원 (컬러 이미지): torch.Size([3, 4, 4])\n",
            "  실제 의미: 4x4 픽셀 컬러 이미지(RGB)\n",
            "  해석: 3개 채널 x 4높이 x 4너비\n",
            "  차원 수: 3|n\n",
            "4차원 (배치 이미지): 모양 torch.Size([2, 3, 4, 4])\n",
            "  실제 의미: 2장의 4x4 컬러 이미지 묶음\n",
            "  해석: 2배치x 3채널 x 4높이 x 4너비\n",
            "  차원 수: 4|n\n",
            "딥러닝에서 각 차원의 의미:\n",
            "  * 배치 차원: 한 번에 처리할 데이터 개수\n",
            "  * 특성 차원: 데이터의 특징 개수\n",
            "  * 시퀀스 차원: 시계열 데이터의 길이\n",
            "  * 공간 차원: 이미지의 높이, 너비\n"
          ]
        }
      ]
    },
    {
      "cell_type": "markdown",
      "source": [
        "# 산술 연산(원소별 연산)\n",
        "## 1. 덧셈, 뺄셈, 곱셈, 나눗셈"
      ],
      "metadata": {
        "id": "oCSW11G-CWpn"
      }
    },
    {
      "cell_type": "code",
      "source": [
        "import torch\n",
        "\n",
        "a = torch.tensor([1,2,3])\n",
        "b = torch.tensor([4,5,6])\n",
        "\n",
        "print(f'a+b= {a+b}')\n",
        "print(f'b-a= {a-b}')\n",
        "print(f'a*b= {a*b}')\n",
        "print(f'b/a= {a/b}')"
      ],
      "metadata": {
        "id": "Vt7Lo0778pHP",
        "outputId": "be4a2dea-09a7-4cad-db75-88f65f39ca16",
        "colab": {
          "base_uri": "https://localhost:8080/"
        }
      },
      "execution_count": 12,
      "outputs": [
        {
          "output_type": "stream",
          "name": "stdout",
          "text": [
            "a+b= tensor([5, 7, 9])\n",
            "b-a= tensor([-3, -3, -3])\n",
            "a*b= tensor([ 4, 10, 18])\n",
            "b/a= tensor([0.2500, 0.4000, 0.5000])\n"
          ]
        }
      ]
    },
    {
      "cell_type": "markdown",
      "source": [
        "## 2.스칼라와의 연산"
      ],
      "metadata": {
        "id": "i4zEu3GiC5Sp"
      }
    },
    {
      "cell_type": "code",
      "source": [
        "print(f'a+10 = {a+10}')\n",
        "print(f'b*2 = {b*2}')\n"
      ],
      "metadata": {
        "id": "AjGWR6GICxGV",
        "outputId": "008897b5-e20b-4a79-8ca3-96a90e8920c1",
        "colab": {
          "base_uri": "https://localhost:8080/"
        }
      },
      "execution_count": 13,
      "outputs": [
        {
          "output_type": "stream",
          "name": "stdout",
          "text": [
            "a+10 = tensor([11, 12, 13])\n",
            "b*2 = tensor([ 8, 10, 12])\n"
          ]
        }
      ]
    },
    {
      "cell_type": "markdown",
      "source": [
        "# (중요!) 브로드 캐스팅"
      ],
      "metadata": {
        "id": "6op1RB61DO2k"
      }
    },
    {
      "cell_type": "code",
      "source": [
        "import torch\n",
        "# a: shape(3,)\n",
        "a = torch.tensor([1,2,3])\n",
        "\n",
        "# b: shape(1,)\n",
        "b = torch.tensor([10])\n",
        "\n",
        "# 브로드캐스팅 : b가 자동으로 [10,10,10]으로 확장\n",
        "print(f'a+b= {a+b}')\n"
      ],
      "metadata": {
        "id": "z178JwYIDKwu",
        "outputId": "4e4d9ce9-a8df-424e-8ce7-3e220789d14e",
        "colab": {
          "base_uri": "https://localhost:8080/"
        }
      },
      "execution_count": 14,
      "outputs": [
        {
          "output_type": "stream",
          "name": "stdout",
          "text": [
            "a+b= tensor([11, 12, 13])\n"
          ]
        }
      ]
    },
    {
      "cell_type": "markdown",
      "source": [
        "# 인덱싱,슬라이싱,불리언 마스킹\n",
        "## 1. 인덱싱, 슬라이싱"
      ],
      "metadata": {
        "id": "aG4Zn6eaD27c"
      }
    },
    {
      "cell_type": "code",
      "source": [
        "import torch\n",
        "tensor2d = torch.tensor([[10,20,30],\n",
        "                        [40,50,60],\n",
        "                        [70,80,90]])\n",
        "\n",
        "# 특정 요소: (0,1)\n",
        "print(f'tensor2d[0,1] = {tensor2d[0,1]}')\n",
        "\n",
        "# 행 슬라이싱: 1행부터 끝까지\n",
        "print(f'tensor2d[1:, :] = {tensor2d[1:, :]}')"
      ],
      "metadata": {
        "id": "iQP_oN7XDyAm",
        "outputId": "5a53a2e9-70ad-47d0-b516-6cb91f84864c",
        "colab": {
          "base_uri": "https://localhost:8080/"
        }
      },
      "execution_count": 16,
      "outputs": [
        {
          "output_type": "stream",
          "name": "stdout",
          "text": [
            "tensor2d[0,1] = 20\n",
            "tensor2d[1:, :] = tensor([[40, 50, 60],\n",
            "        [70, 80, 90]])\n"
          ]
        }
      ]
    },
    {
      "cell_type": "markdown",
      "source": [
        "## 2. 불리언 마스킹"
      ],
      "metadata": {
        "id": "eZ9FAQkeEpra"
      }
    },
    {
      "cell_type": "code",
      "source": [
        "mask = tensor2d > 50\n",
        "print(f'mask:|n{mask}')\n",
        "print(f'50보다 큰 값들: {tensor2d[mask]}')"
      ],
      "metadata": {
        "id": "pfZ_UXZ4ErXX",
        "outputId": "281897a5-5f7c-4bff-8504-41946b10545e",
        "colab": {
          "base_uri": "https://localhost:8080/"
        }
      },
      "execution_count": 17,
      "outputs": [
        {
          "output_type": "stream",
          "name": "stdout",
          "text": [
            "mask:|ntensor([[False, False, False],\n",
            "        [False, False,  True],\n",
            "        [ True,  True,  True]])\n",
            "50보다 큰 값들: tensor([60, 70, 80, 90])\n"
          ]
        }
      ]
    },
    {
      "cell_type": "markdown",
      "source": [
        "## 3. 차원 변경(Reshape)\n"
      ],
      "metadata": {
        "id": "oglYNGWMFCS0"
      }
    },
    {
      "cell_type": "code",
      "source": [
        "tensor_flat = torch.arange(6)\n",
        "reshaped = tensor_flat.view(2,3)\n",
        "\n",
        "print(f'reshaped:\\n {reshaped}')"
      ],
      "metadata": {
        "id": "oASXjADmFAAD",
        "outputId": "8d987f77-2573-48c5-d917-14ce9d29e51b",
        "colab": {
          "base_uri": "https://localhost:8080/"
        }
      },
      "execution_count": 20,
      "outputs": [
        {
          "output_type": "stream",
          "name": "stdout",
          "text": [
            "reshaped:\n",
            " tensor([[0, 1, 2],\n",
            "        [3, 4, 5]])\n"
          ]
        }
      ]
    },
    {
      "cell_type": "markdown",
      "source": [
        "#"
      ],
      "metadata": {
        "id": "weZYccD1GspR"
      }
    },
    {
      "cell_type": "markdown",
      "source": [
        "# 고급 텐서 조작\n",
        "## 텐서 합치기"
      ],
      "metadata": {
        "id": "EG55zNq2Gy_c"
      }
    },
    {
      "cell_type": "code",
      "source": [
        "t1 = torch.tensor([1,2,3])\n",
        "t2 = torch.tensor([4,5,6])\n",
        "\n",
        "# cat: 주어진 차원을 따라 텐서를 이어 붙임\n",
        "cat_result = torch.cat((t1,t2), dim=0)\n",
        "print(f'cat_result: {cat_result}')\n",
        "\n",
        "# stack: 새 차원을 만들어 텐서를 쌓음\n",
        "stack_result = torch.stack((t1,t2), dim=0)\n",
        "print(f'stack_result:\\n {stack_result}')"
      ],
      "metadata": {
        "id": "PEg2op3TG2qr",
        "outputId": "8ecf0acd-7647-4d9d-db0c-6792e1c21150",
        "colab": {
          "base_uri": "https://localhost:8080/"
        }
      },
      "execution_count": 25,
      "outputs": [
        {
          "output_type": "stream",
          "name": "stdout",
          "text": [
            "cat_result: tensor([1, 2, 3, 4, 5, 6])\n",
            "stack_result:\n",
            " tensor([[1, 2, 3],\n",
            "        [4, 5, 6]])\n"
          ]
        }
      ]
    },
    {
      "cell_type": "markdown",
      "source": [
        "## 텐서 나누기"
      ],
      "metadata": {
        "id": "v9JOXOiGHXfy"
      }
    },
    {
      "cell_type": "code",
      "source": [
        "big_tensor = torch.arange(10)\n",
        "\n",
        "# split: 특정 크기씩 잘라 리스트로 반환\n",
        "split_result = torch.split(big_tensor,split_size_or_sections=3)\n",
        "print(f'split_result: {split_result}')\n",
        "\n",
        "# chunk: 개수 기준으로 나눔\n",
        "chunk_result = torch.chunk(big_tensor, chunks=3)\n",
        "print(f'chunk_result: {chunk_result}')"
      ],
      "metadata": {
        "id": "aNKwT6zhHYsI",
        "outputId": "e6fcaa62-20d7-4e68-f348-f70e65a9fd56",
        "colab": {
          "base_uri": "https://localhost:8080/"
        }
      },
      "execution_count": 28,
      "outputs": [
        {
          "output_type": "stream",
          "name": "stdout",
          "text": [
            "split_result: (tensor([0, 1, 2]), tensor([3, 4, 5]), tensor([6, 7, 8]), tensor([9]))\n",
            "chunk_result: (tensor([0, 1, 2, 3]), tensor([4, 5, 6, 7]), tensor([8, 9]))\n"
          ]
        }
      ]
    },
    {
      "cell_type": "markdown",
      "source": [
        "## 차원 조작하기"
      ],
      "metadata": {
        "id": "iyt1U-_LING1"
      }
    },
    {
      "cell_type": "code",
      "source": [
        "matrix = torch.tensor([[1,2,3],[4,5,6]])\n",
        "transposed = matrix.t()\n",
        "print(f'transposed:\\n {transposed}')\n",
        "\n",
        "# 3차원 예시\n",
        "tensor_3d = torch.randn(2,3,4)\n",
        "permute_result = tensor_3d.permute(2,1,0)\n",
        "\n",
        "#sequeeze/unsqueeze: 차원이 1인 축을 제거/추가\n",
        "x = torch.tensor([[[1,2,3]]])\n",
        "squeezed = x.squeeze()\n",
        "unsqueezed = x.unsqueeze(0)"
      ],
      "metadata": {
        "id": "9z0fDYKYIJo6",
        "outputId": "b8e4d292-d141-473d-8e0f-051ba2ca5278",
        "colab": {
          "base_uri": "https://localhost:8080/"
        }
      },
      "execution_count": 29,
      "outputs": [
        {
          "output_type": "stream",
          "name": "stdout",
          "text": [
            "transposed:\n",
            " tensor([[1, 4],\n",
            "        [2, 5],\n",
            "        [3, 6]])\n"
          ]
        }
      ]
    },
    {
      "cell_type": "markdown",
      "source": [
        "# 텐서와 NumPy 배열 간 상호 변환\n",
        "## 변환 방법\n",
        "  ### numpy 배열 -> 파이터치 텐서"
      ],
      "metadata": {
        "id": "0zvZVgTxJ2i3"
      }
    },
    {
      "cell_type": "code",
      "source": [
        "import numpy as np\n",
        "import torch\n",
        "np_arr = np.array([1,2,3])\n",
        "tensor_from_np = torch.from_numpy(np_arr)\n",
        "print(f'tensor_from_np: {tensor_from_np}')"
      ],
      "metadata": {
        "id": "bRvpIC-RKDJ9",
        "outputId": "57e4e70b-69d9-436f-efda-fc67a38e2944",
        "colab": {
          "base_uri": "https://localhost:8080/"
        }
      },
      "execution_count": 30,
      "outputs": [
        {
          "output_type": "stream",
          "name": "stdout",
          "text": [
            "tensor_from_np: tensor([1, 2, 3])\n"
          ]
        }
      ]
    },
    {
      "cell_type": "markdown",
      "source": [
        "### 파이토치 텐서 -> NumPy 배열"
      ],
      "metadata": {
        "id": "oPKMVqyhKUzO"
      }
    },
    {
      "cell_type": "code",
      "source": [
        "np_from_tensor = tensor_from_np.numpy()\n",
        "print(f'np_from_tensor: {np_from_tensor}')"
      ],
      "metadata": {
        "id": "RSIymlx3KT2T",
        "outputId": "90e5d489-62ba-4d12-d5b5-03ef14954da0",
        "colab": {
          "base_uri": "https://localhost:8080/"
        }
      },
      "execution_count": 31,
      "outputs": [
        {
          "output_type": "stream",
          "name": "stdout",
          "text": [
            "np_from_tensor: [1 2 3]\n"
          ]
        }
      ]
    },
    {
      "cell_type": "code",
      "source": [
        "# (중요한 주의 사항)\n",
        "# cpu 텐서와 numpy 배열의 메모리 공유\n",
        "import numpy as np\n",
        "import torch\n",
        "\n",
        "# NumPy 배열 생성\n",
        "np_arr = np.array([1,2,3])\n",
        "\n",
        "# NumPy 배열을 파이토치 텐서로 변환(메모리 공유)\n",
        "tensor_from_np = torch.from_numpy(np_arr)\n",
        "print(f'변경 전 tensor_from_np: {tensor_from_np}')\n",
        "\n",
        "# NumPy 배열의 첫 번째 원소 수정\n",
        "np_arr[0]=100\n",
        "print(f'변경 후 tensor_from_np: {tensor_from_np}')"
      ],
      "metadata": {
        "id": "hweBq-emKkga",
        "outputId": "14a87d2f-a599-4a46-eed1-07ab74889ea4",
        "colab": {
          "base_uri": "https://localhost:8080/"
        }
      },
      "execution_count": 32,
      "outputs": [
        {
          "output_type": "stream",
          "name": "stdout",
          "text": [
            "변경 전 tensor_from_np: tensor([1, 2, 3])\n",
            "변경 후 tensor_from_np: tensor([100,   2,   3])\n"
          ]
        }
      ]
    },
    {
      "cell_type": "code",
      "source": [
        "# 중요한 주의사항\n",
        "# gpu 텐서와 numpy 배열\n",
        "\n",
        "import torch\n",
        "if torch.cuda.is_available():\n",
        "  # gpu에서 텐서 생성(device='cuda')\n",
        "  gpu_tensor = torch.tensor([1,2,3], device='cuda')\n",
        "  #gpu 텐서를 cpu로 이동 후 numpy 배열로 변환\n",
        "  np_from_gpu = gpu_tensor.cpu().numpy()\n",
        "  print(f'gpu 텐서 -> numpy 배열: {np_from_gpu}')\n",
        "else:\n",
        "  print('cuda를 사용할 수 없습니다. gpu가 지원되지 않는 환경입니다.')"
      ],
      "metadata": {
        "id": "Nhn5VKzeLS0R",
        "outputId": "11f7e54a-40e1-4a12-ae8a-eecbb737b7c7",
        "colab": {
          "base_uri": "https://localhost:8080/"
        }
      },
      "execution_count": 34,
      "outputs": [
        {
          "output_type": "stream",
          "name": "stdout",
          "text": [
            "gpu 텐서 -> numpy 배열: [1 2 3]\n"
          ]
        }
      ]
    },
    {
      "cell_type": "markdown",
      "source": [
        "# gpu 확인 및 장점"
      ],
      "metadata": {
        "id": "SmAncmPqMMcM"
      }
    },
    {
      "cell_type": "code",
      "source": [
        "import torch\n",
        "if torch.cuda.is_available():\n",
        "  print('gpu 사용 가능!')\n",
        "else:\n",
        "  print('gpu를 사용할 수 없습니다. cpu 모드로 실행합니다.')"
      ],
      "metadata": {
        "id": "rUGX7iPgMO7n",
        "outputId": "df4b4512-eb92-4290-85ef-69819e2ef69a",
        "colab": {
          "base_uri": "https://localhost:8080/"
        }
      },
      "execution_count": 35,
      "outputs": [
        {
          "output_type": "stream",
          "name": "stdout",
          "text": [
            "gpu 사용 가능!\n"
          ]
        }
      ]
    },
    {
      "cell_type": "markdown",
      "source": [
        "# 텐서를 gpu로 이동"
      ],
      "metadata": {
        "id": "bhdPqKHUMdBe"
      }
    },
    {
      "cell_type": "code",
      "source": [
        "import torch\n",
        "\n",
        "# gpu 사용 가능 여부에 따라 'cuda' 또는 'cpu' 선택\n",
        "device = torch.device('cuda'if torch.cuda.is_available() else'cpu')\n",
        "print(f'사용할 디바이스: {device}')\n",
        "\n",
        "# 텐서 생성 후 지정한 디바이스로 이동\n",
        "x = torch.tensor([1.0,2.0,3.0]).to(device)\n",
        "print(f'x가 위치한 디바이스: {x.device}')"
      ],
      "metadata": {
        "id": "WB48AIL_McC-",
        "outputId": "8b6a9b7e-b958-471d-af8e-2184a312fc65",
        "colab": {
          "base_uri": "https://localhost:8080/"
        }
      },
      "execution_count": 36,
      "outputs": [
        {
          "output_type": "stream",
          "name": "stdout",
          "text": [
            "사용할 디바이스: cuda\n",
            "x가 위치한 디바이스: cuda:0\n"
          ]
        }
      ]
    },
    {
      "cell_type": "markdown",
      "source": [
        "# cpu<-> gpu 변환"
      ],
      "metadata": {
        "id": "Siie5BZqNFkm"
      }
    },
    {
      "cell_type": "code",
      "source": [
        "# gpu에서 생성된 텐서 x를 cpu로 이동\n",
        "x_cpu = x.cpu()\n",
        "print(f'x_cpu가 위치한 디바이스: {x_cpu.device}')"
      ],
      "metadata": {
        "id": "RNs64EWhNEh-",
        "outputId": "7347c226-9e23-4322-96bc-4af08f772e7f",
        "colab": {
          "base_uri": "https://localhost:8080/"
        }
      },
      "execution_count": 37,
      "outputs": [
        {
          "output_type": "stream",
          "name": "stdout",
          "text": [
            "x_cpu가 위치한 디바이스: cpu\n"
          ]
        }
      ]
    },
    {
      "cell_type": "code",
      "source": [
        "# 실습 예제 - 간단한 성능 비교\n",
        "import torch\n",
        "import time\n",
        "\n",
        "size = 10000\n",
        "\n",
        "# cpu에서의 행렬 곱셈 수행\n",
        "a_cpu = torch.rand((size,size))\n",
        "b_cpu = torch.rand((size,size))\n",
        "\n",
        "start_time = time.time()\n",
        "_= torch.mm(a_cpu,b_cpu)\n",
        "cpu_time = time.time() - start_time\n",
        "print(f'cpu matmul time: {cpu_time}')\n",
        "\n",
        "# gpu 사용 시: 동일한 행렬을 gpu로 이동하여 행렬 곱셈 수행\n",
        "if torch.cuda.is_available():\n",
        "  a_gpu = a_cpu.to(device)\n",
        "  b_gpu = b_cpu.to(device)\n",
        "\n",
        "  # gpu 연산은 비동기적이므로 연산 완료를 위해 동기화 필요\n",
        "  torch.cuda.synchronize()\n",
        "  start_time = time.time()\n",
        "  _=torch.mm(a_gpu, b_gpu)\n",
        "  torch.cuda.synchronize()\n",
        "  gpu_time = time.time() - start_time\n",
        "  print(f'gpu matmul time: {gpu_time}')"
      ],
      "metadata": {
        "id": "YtZwvh5RNUMB",
        "outputId": "73302994-fe95-44a2-f5bb-9a1ead082824",
        "colab": {
          "base_uri": "https://localhost:8080/"
        }
      },
      "execution_count": 39,
      "outputs": [
        {
          "output_type": "stream",
          "name": "stdout",
          "text": [
            "cpu matmul time: 25.19220519065857\n",
            "gpu matmul time: 0.8200929164886475\n"
          ]
        }
      ]
    },
    {
      "cell_type": "code",
      "source": [],
      "metadata": {
        "id": "rlNwYG4dOuYo"
      },
      "execution_count": null,
      "outputs": []
    }
  ]
}